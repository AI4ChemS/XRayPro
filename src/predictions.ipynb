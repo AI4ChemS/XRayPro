{
 "cells": [
  {
   "cell_type": "markdown",
   "metadata": {},
   "source": [
    "#### <b>Making predictions with our model</b>\n",
    "\n",
    "This notebook pertains to making predictions with finetuned weights of our model (can use our weights on the repository, or can finetune the model yourself and use your own weights). For this, a few things are needed:\n",
    "1. A folder with your PXRD data (in the form of a .npy file, please see ``experimental.ipynb``). This will be a nested numpy array that is in the form of ``[[2theta], [corresponding_intensities]]``\n",
    "2. A folder with your precursor data (format: [metal_type][organic_linker] - both SMILES), with the files of each precursor strings for a MOF ending in .txt.\n",
    "3. A path to your finetuned weights.\n",
    "4. A list of CIFs (can be np.array or list type) - keep in mind that this list must be a subset of your ``directory_to_pxrd`` and ``directory_to_precursors`` folders i.e. they must have consistent naming. For instance, if we are predicting properties of MOF-5, the PXRD folder should contain MOF5.npy, precursor folder should contain MOF5.txt.\n",
    "\n",
    "We will output predictions on methane uptake at HP from the BW20K dataset, as a quick demonstration."
   ]
  },
  {
   "cell_type": "code",
   "execution_count": 1,
   "metadata": {},
   "outputs": [
    {
     "name": "stderr",
     "output_type": "stream",
     "text": [
      "/home/sartaaj/miniconda3/envs/xraypro/lib/python3.11/site-packages/tqdm/auto.py:21: TqdmWarning: IProgress not found. Please update jupyter and ipywidgets. See https://ipywidgets.readthedocs.io/en/stable/user_install.html\n",
      "  from .autonotebook import tqdm as notebook_tqdm\n"
     ]
    },
    {
     "name": "stdout",
     "output_type": "stream",
     "text": [
      "Python version: 3.11.9 (main, Apr 19 2024, 16:48:06) [GCC 11.2.0]\n"
     ]
    }
   ],
   "source": [
    "# necessary libraries for convenience\n",
    "import os\n",
    "import shutil\n",
    "import pandas as pd\n",
    "import numpy as np\n",
    "import pickle\n",
    "import random\n",
    "import torch\n",
    "import yaml\n",
    "import matplotlib.pyplot as plt\n",
    "\n",
    "# import main module\n",
    "from xraypro.setGen import create_loader\n",
    "from xraypro.xraypro import XRayPro\n",
    "\n",
    "# suppressing warnings (not recommended)\n",
    "import warnings\n",
    "warnings.simplefilter('ignore')\n",
    "\n",
    "import sys\n",
    "print(f'Python version: {sys.version}')"
   ]
  },
  {
   "cell_type": "markdown",
   "metadata": {},
   "source": [
    "If you run this entire notebook, you will eventually end with a folder called ``subset``, which will contain the PXRDs and the precursors that are tagged to the list of CIFs provided. For the sake of avoiding complications in overwriting files, it is simply best to automatically delete the ``subset`` folder."
   ]
  },
  {
   "cell_type": "code",
   "execution_count": 7,
   "metadata": {},
   "outputs": [],
   "source": [
    "# if subset folder exists, delete\n",
    "folder_path = 'subset'\n",
    "if os.path.exists(folder_path):\n",
    "    shutil.rmtree(folder_path)"
   ]
  },
  {
   "cell_type": "markdown",
   "metadata": {},
   "source": [
    "Define your paths to your PXRD, precursor and weights folders. Furthermore, import a configuration file which contains the hyperparameters of the transformer for the precursor. For demonstration purposes, 100 random MOFs were sampled from the BW20K test set."
   ]
  },
  {
   "cell_type": "code",
   "execution_count": 8,
   "metadata": {},
   "outputs": [
    {
     "name": "stdout",
     "output_type": "stream",
     "text": [
      "Number of CIFs: 100\n",
      "['str_m3_o18_o23_pcu_sym.178', 'str_m4_o4_o4_acs_sym.126', 'str_m4_o1_o22_acs_sym.202', 'str_m6_o45_o54_etb_sym.187', 'str_m2_o2_o20_pcu_sym.36', 'str_m2_o5_o22_nbo_sym.46', 'str_m5_o2_o19_sra_sym.67', 'str_m2_o2_o27_pcu_sym.145', 'str_m5_o13_o18_sra_sym.25', 'str_m2_o10_o25_pcu_sym.194', 'str_m3_o10_o29_pcu_sym.76', 'str_m1_o14_o19_pcu_sym.17', 'str_m3_o22_o24_pcu_sym.205', 'str_m3_o10_o16_pcu_sym.20', 'str_m5_o2_o19_sra_sym.105', 'str_m3_o1_o14_pcu_sym.117', 'str_m2_o8_o11_pcu_sym.201', 'str_m3_o12_o13_pcu_sym.81', 'str_m2_o2_o6_pcu_sym.21', 'str_m3_o4_o14_pcu_sym.220', 'str_m3_o6_o11_nbo_sym.181', 'str_m3_o1_o24_nbo_sym.236', 'str_m3_o7_o7_nbo_sym.5', 'str_m3_o4_o4_nbo_sym.172', 'str_m5_o10_o29_sra_sym.63', 'str_m2_o2_o22_nbo_sym.53', 'str_m3_o41_o41_fof_sym.86', 'str_m2_o6_o25_pcu_sym.75', 'str_m7_o4_o10_bcu_sym.74', 'str_m5_o2_o19_sra_sym.155', 'str_m5_o11_o16_sra_sym.90', 'str_m2_o7_o27_pcu_sym.137', 'str_m2_o23_o23_pcu_sym.130', 'str_m4_o20_o25_acs_sym.131', 'str_m3_o9_o11_nbo_sym.201', 'str_m6_o48_o51_etb_sym.9', 'str_m1_o14_o17_pcu_sym.55', 'str_m2_o13_o15_pcu_sym.39', 'str_m3_o4_o5_pcu_sym.105', 'str_m4_o1_o4_acs_sym.103', 'str_m2_o1_o26_pcu_sym.13', 'str_m1_o3_o15_pcu_sym.22', 'str_m2_o25_o27_pcu_sym.210', 'str_m5_o16_o22_sra_sym.82', 'str_m5_o23_o23_sra_sym.48', 'str_m2_o2_o11_nbo_sym.230', 'str_m5_o16_o27_sra_sym.9', 'str_m3_o12_o22_pcu_sym.10', 'str_m6_o47_o56_etb_sym.31', 'str_m4_o22_o24_acs_sym.125', 'str_m3_o16_o22_pcu_sym.143', 'str_m2_o16_o16_pcu_sym.88', 'str_m5_o4_o24_sra_sym.50', 'str_m4_o1_o22_acs_sym.147', 'str_m2_o14_o23_pcu_sym.246', 'str_m6_o45_o48_etb_sym.126', 'str_m3_o12_o16_pcu_sym.102', 'str_m2_o10_o17_pcu_sym.46', 'str_m3_o4_o11_pcu_sym.54', 'str_m4_o1_o4_acs_sym.123', 'str_m2_o38_o38_fof_sym.117', 'str_m2_o23_o23_nbo_sym.36', 'str_m3_o4_o16_pcu_sym.51', 'str_m3_o4_o13_pcu_sym.195', 'str_m5_o2_o19_sra_sym.141', 'str_m2_o2_o6_nbo_sym.24', 'str_m3_o14_o22_pcu_sym.52', 'str_m4_o4_o5_acs_sym.47', 'str_m4_o4_o19_acs_sym.94', 'str_m1_o16_o18_pcu_sym.225', 'str_m3_o22_o22_pcu_sym.40', 'str_m3_o5_o25_nbo_sym.30', 'str_m6_o47_o48_etb_sym.67', 'str_m2_o4_o17_pcu_sym.241', 'str_m2_o10_o12_pcu_sym.143', 'str_m4_o7_o23_acs_sym.119', 'str_m2_o18_o18_pcu_sym.234', 'str_m2_o14_o19_pcu_sym.27', 'str_m5_o27_o28_sra_sym.166', 'str_m5_o12_o18_sra_sym.99', 'str_m3_o4_o15_nbo_sym.75', 'str_m1_o4_o4_pcu_sym.93', 'str_m5_o12_o22_sra_sym.136', 'str_m1_o1_o6_pcu_sym.96', 'str_m2_o34_o34_pts_sym.38', 'str_m3_o14_o14_pcu_sym.4', 'str_m5_o16_o19_sra_sym.12', 'str_m3_o17_o19_pcu_sym.143', 'str_m3_o1_o5_nbo_sym.38', 'str_m5_o16_o16_sra_sym.3', 'str_m3_o14_o16_pcu_sym.175', 'str_m3_o10_o29_pcu_sym.35', 'str_m3_o40_o41_fof_sym.221', 'str_m5_o18_o18_sra_sym.11', 'str_m2_o2_o5_nbo_sym.75', 'str_m1_o11_o14_pcu_sym.197', 'str_m3_o6_o17_pcu_sym.238', 'str_m2_o5_o17_pcu_sym.45', 'str_m2_o1_o22_pcu_sym.84', 'str_m1_o19_o25_pcu_sym.97']\n"
     ]
    }
   ],
   "source": [
    "directory_to_pxrd = 'data/bw20k/pxrd'\n",
    "directory_to_precursors = 'data/bw20k/precursors'\n",
    "directory_to_cif_ids = 'data/bw20k/splits/CH4UptakeHP/test_cifs.pickle'\n",
    "directory_to_weights = 'zenodo/weights/bw20k/model_pure_uptake_methane_298.00_6500000_ft.pth'\n",
    "\n",
    "yaml_path = os.path.join('xraypro', 'transformer_precursor', 'config_ft_transformer.yaml')\n",
    "yaml_data = os.path.join('xraypro', 'transformer_precursor', 'config_data.yaml')\n",
    "config = yaml.load(open(yaml_path, \"r\"), Loader=yaml.FullLoader)\n",
    "\n",
    "with open(directory_to_cif_ids, 'rb') as handle:\n",
    "    cif_ids = pickle.load(handle)\n",
    "\n",
    "# for demonstration purposes, we will randomly sample 100 CIFs\n",
    "cif_ids = random.sample(cif_ids.tolist(), 100)\n",
    "print(f'Number of CIFs: {len(cif_ids)}')\n",
    "print(cif_ids) #to get an idea of what cif_ids should look like"
   ]
  },
  {
   "cell_type": "markdown",
   "metadata": {},
   "source": [
    "<b>Warning: Make sure you run the following cell on a GPU! It involves a series of transformative, multiprocessing computations to preprocess the PXRD data. Running this on a laptop will cause your kernel to crash (unless your laptop is super powerful)!</b>\n",
    "\n",
    "``create_loader`` is able to accept the folder to the PXRDs, precursors and the CIFs of interest, and constructs a ``DataLoader`` type object in batches of ``batch_size``. This is the final step before inputting this into our model."
   ]
  },
  {
   "cell_type": "code",
   "execution_count": 9,
   "metadata": {},
   "outputs": [
    {
     "name": "stdout",
     "output_type": "stream",
     "text": [
      "Creating subset/subset pxrd\n",
      "Creating subset/subset precursor\n",
      "data.pickle cannot be found... Processing PXRDs...\n",
      "data.pickle has been deposited to subset/subset pxrd/data.pickle\n"
     ]
    }
   ],
   "source": [
    "loader = create_loader(directory_to_pxrd = directory_to_pxrd, \n",
    "                       directory_to_precursors = directory_to_precursors, \n",
    "                       cif_ids = cif_ids, \n",
    "                       batch_size = 32, \n",
    "                       SEED = 0\n",
    "                       )"
   ]
  },
  {
   "cell_type": "markdown",
   "metadata": {},
   "source": [
    "Finally, we call the model (feeding in the configuration dictionary and path to your weights) and perform ``model.predict(loader)`` to get a list of predictions (should be all float types)."
   ]
  },
  {
   "cell_type": "code",
   "execution_count": 10,
   "metadata": {},
   "outputs": [
    {
     "name": "stdout",
     "output_type": "stream",
     "text": [
      "Pre-trained weights not found. Training from scratch.\n",
      "SSL/pretrained/None/model_t.pth\n"
     ]
    }
   ],
   "source": [
    "if torch.cuda.is_available():\n",
    "    device = 'cuda:0' #can change if you wish\n",
    "    print(f'Your device is: {device}')\n",
    "\n",
    "model = XRayPro(config,\n",
    "        path_to_weights = directory_to_weights\n",
    "        )\n",
    "\n",
    "predictions = model.predict(loader)"
   ]
  },
  {
   "cell_type": "code",
   "execution_count": 11,
   "metadata": {},
   "outputs": [
    {
     "name": "stdout",
     "output_type": "stream",
     "text": [
      "[3.4780931, 12.844411, 16.064718, 14.486415, 11.010058, 13.148747, 2.30713, 2.1417556, 11.603213, 1.2781298, 4.7982316, 5.933462, 0.73916733, 12.015372, 0.73525417, 14.653428, 18.642591, 4.1076345, 11.913447, 0.4947238, 0.6902385, 2.8997674, 4.0857005, 9.055965, 2.6619728, 6.467949, 3.3157866, 11.488231, 5.0114236, 17.321547, 14.225354, 11.481714, 4.5472527, 22.771902, 14.165469, 2.6922376, 7.1576695, 1.7848024, 6.00306, 2.0123005, 3.738173, 4.7842503, 10.888245, 5.2574024, 4.413397, 14.97603, 5.6862326, 16.662249, 4.021914, 0.7665078, 15.211217, 6.941458, 4.4818597, 7.325951, 8.208468, 19.99458, 10.789078, 8.569703, 2.6495936, 7.3584127, 5.159301, 5.668984, 7.3855004, 10.693194, 18.156567, 3.0333946, 3.6734648, 3.2015057, 11.913166, 4.5750647, 14.426064, 0.58567166, 1.3674556, 21.512365, 3.2886188, 2.0670736, 2.9519665, 7.662177, 22.091694, 2.596763, 13.167373, 3.0362365, 7.054792, 6.6146436, 3.5479608, 13.441536, 17.50268, 5.605973, 1.8412461, 18.466396, 14.761746, 17.504261, 5.5832043, 14.907571, 7.8354383, 2.1347933, 6.6956763, 15.6102085, 14.567852, 12.924396]\n"
     ]
    }
   ],
   "source": [
    "print(predictions)"
   ]
  },
  {
   "cell_type": "code",
   "execution_count": 25,
   "metadata": {},
   "outputs": [
    {
     "data": {
      "image/png": "[encoded data removed]",
      "text/plain": [
       "<Figure size 800x500 with 1 Axes>"
      ]
     },
     "metadata": {},
     "output_type": "display_data"
    }
   ],
   "source": [
    "plt.figure(figsize = (8, 5), dpi = 100)\n",
    "plt.hist(predictions, edgecolor = 'black')\n",
    "plt.xlabel('CH$_4$ uptake at HP', fontsize = 14, fontweight = 'bold', labelpad = 10)\n",
    "plt.ylabel('Frequency', fontsize = 14, fontweight = 'bold', labelpad = 10)\n",
    "\n",
    "plt.grid(axis = 'y', linestyle = '--', alpha = 0.7)\n",
    "plt.xticks(fontsize = 12)\n",
    "plt.yticks(fontsize = 12)\n",
    "plt.gca().patch.set_alpha(0.9)\n",
    "plt.show()"
   ]
  },
  {
   "cell_type": "code",
   "execution_count": null,
   "metadata": {},
   "outputs": [],
   "source": []
  },
  {
   "cell_type": "code",
   "execution_count": null,
   "metadata": {},
   "outputs": [],
   "source": []
  }
 ],
 "metadata": {
  "kernelspec": {
   "display_name": "xraypro",
   "language": "python",
   "name": "python3"
  },
  "language_info": {
   "codemirror_mode": {
    "name": "ipython",
    "version": 3
   },
   "file_extension": ".py",
   "mimetype": "text/x-python",
   "name": "python",
   "nbconvert_exporter": "python",
   "pygments_lexer": "ipython3",
   "version": "3.11.9"
  }
 },
 "nbformat": 4,
 "nbformat_minor": 2
}
