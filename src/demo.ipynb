{
 "cells": [
  {
   "cell_type": "markdown",
   "metadata": {},
   "source": [
    "Finetuning for CH4 uptake at high pressure"
   ]
  },
  {
   "cell_type": "code",
   "execution_count": 1,
   "metadata": {},
   "outputs": [],
   "source": [
    "import numpy as np\n",
    "import pandas as pd\n",
    "import matplotlib.pyplot as plt\n",
    "\n",
    "import os\n",
    "import sys\n",
    "import scipy\n",
    "\n",
    "import yaml\n",
    "import pickle\n",
    "from sklearn.metrics import mean_absolute_error\n",
    "\n",
    "from xraypro.setGen import genLoaders\n",
    "from xraypro.xraypro import loadModel\n",
    "from xraypro.run import finetune, runTest"
   ]
  },
  {
   "cell_type": "code",
   "execution_count": 3,
   "metadata": {},
   "outputs": [],
   "source": [
    "with open('data/CoRE-MOF/transformed_PXRD.pickle', 'rb') as handle:\n",
    "    transformedPXRD = pickle.load(handle)"
   ]
  },
  {
   "cell_type": "code",
   "execution_count": 4,
   "metadata": {},
   "outputs": [],
   "source": [
    "core_df_train = pd.read_csv(\"data/CoRE-MOF/CoRE2019_traindata.csv\")\n",
    "core_df_test = pd.read_csv(\"data/CoRE-MOF/CoRE2019_testdata.csv\")\n",
    "\n",
    "train_ids = np.array(core_df_train['MOFname'].values)\n",
    "test_ids = np.array(core_df_test['MOFname'].values)\n",
    "\n",
    "availableIDs = np.array(list(train_ids) + list(test_ids))\n",
    "\n",
    "concat_df = pd.concat([core_df_train, core_df_test], ignore_index=True)\n",
    "concat_df = concat_df.loc[:, ~concat_df.columns.str.contains('^Unnamed')]\n",
    "\n",
    "PXRD_to_Label = {}\n",
    "\n",
    "for id in availableIDs:\n",
    "    try:\n",
    "        label = concat_df[concat_df['MOFname'] == id]['pure_uptake_methane_298.00_6500000'].values[0]\n",
    "        PXRD_to_Label[id] = [transformedPXRD[id][0], label]\n",
    "    except:\n",
    "        pass"
   ]
  },
  {
   "cell_type": "code",
   "execution_count": 5,
   "metadata": {},
   "outputs": [
    {
     "name": "stdout",
     "output_type": "stream",
     "text": [
      "The random seed is:  0\n",
      "Train size: 2928, Validation size: 390, Test size: 585\n"
     ]
    }
   ],
   "source": [
    "train_loader, test_loader, val_loader = genLoaders(PXRD_to_Label, directory_to_precursors='data/CoRE-MOF/precursors', test_ratio=0.15, valid_ratio=0.1, batch_size=32, SEED = 0)"
   ]
  },
  {
   "cell_type": "markdown",
   "metadata": {},
   "source": [
    "Finetune model for label"
   ]
  },
  {
   "cell_type": "code",
   "execution_count": 7,
   "metadata": {},
   "outputs": [
    {
     "name": "stdout",
     "output_type": "stream",
     "text": [
      "Loaded pre-trained model with success.\n",
      "/home/sartaaj/Desktop/xraypro/src/SSL/pretrained/cgcnn/model_t.pth\n"
     ]
    }
   ],
   "source": [
    "model = loadModel(mode = 'cgcnn').regressionMode()\n",
    "\n",
    "device = 'cuda:0'\n",
    "\n",
    "label = 'CH4 Uptake at 64 bar'\n",
    "file_path = f'data/CoRE-MOF/ft/{label}'\n",
    "\n",
    "new_dir_path = os.path.join(os.getcwd(), 'data/CoRE-MOF/ft', label)\n",
    "os.makedirs(new_dir_path, exist_ok = True)\n",
    "\n",
    "with open(f'{file_path}/train_loader.pickle', 'wb') as handle:\n",
    "    pickle.dump(train_loader, handle, protocol=pickle.HIGHEST_PROTOCOL)\n",
    "\n",
    "with open(f'{file_path}/test_loader.pickle', 'wb') as handle:\n",
    "    pickle.dump(test_loader, handle, protocol=pickle.HIGHEST_PROTOCOL)\n",
    "\n",
    "with open(f'{file_path}/val_loader.pickle', 'wb') as handle:\n",
    "    pickle.dump(val_loader, handle, protocol=pickle.HIGHEST_PROTOCOL)"
   ]
  },
  {
   "cell_type": "code",
   "execution_count": 8,
   "metadata": {},
   "outputs": [
    {
     "name": "stderr",
     "output_type": "stream",
     "text": [
      "/home/sartaaj/.local/lib/python3.10/site-packages/torch/nn/modules/conv.py:306: UserWarning: Plan failed with a cudnnException: CUDNN_BACKEND_EXECUTION_PLAN_DESCRIPTOR: cudnnFinalize Descriptor Failed cudnn_status: CUDNN_STATUS_NOT_SUPPORTED (Triggered internally at ../aten/src/ATen/native/cudnn/Conv_v8.cpp:919.)\n",
      "  return F.conv1d(input, weight, bias, self.stride,\n",
      "/home/sartaaj/.local/lib/python3.10/site-packages/torch/autograd/graph.py:744: UserWarning: Plan failed with a cudnnException: CUDNN_BACKEND_EXECUTION_PLAN_DESCRIPTOR: cudnnFinalize Descriptor Failed cudnn_status: CUDNN_STATUS_NOT_SUPPORTED (Triggered internally at ../aten/src/ATen/native/cudnn/Conv_v8.cpp:919.)\n",
      "  return Variable._execution_engine.run_backward(  # Calls into the C++ engine to run the backward pass\n"
     ]
    },
    {
     "name": "stdout",
     "output_type": "stream",
     "text": [
      "Epoch: 1, Batch: 17, Loss: 12.112940238072323, Val Loss: 7.43959739473131, Val SRCC = 0.6984359726295208\n",
      "Epoch: 2, Batch: 17, Loss: 6.800057720352005, Val Loss: 6.37633921040429, Val SRCC = 0.7830930270446399\n",
      "Epoch: 3, Batch: 17, Loss: 6.06693373145638, Val Loss: 5.162903216150072, Val SRCC = 0.8058813945910719\n",
      "Epoch: 4, Batch: 17, Loss: 5.625587950696002, Val Loss: 10.409848054250082, Val SRCC = 0.8039263603779733\n",
      "Epoch: 5, Batch: 17, Loss: 7.04021953357445, Val Loss: 5.187546597586738, Val SRCC = 0.8171839361355491\n",
      "Epoch: 6, Batch: 17, Loss: 5.235660356479687, Val Loss: 4.374500314394633, Val SRCC = 0.835654936461388\n",
      "Epoch: 7, Batch: 17, Loss: 4.877579987704099, Val Loss: 4.164826757378048, Val SRCC = 0.8354309221244703\n",
      "Epoch: 8, Batch: 17, Loss: 4.752609956395495, Val Loss: 4.37275908390681, Val SRCC = 0.8309302704463993\n",
      "Epoch: 9, Batch: 17, Loss: 4.525623649031251, Val Loss: 3.892830000983344, Val SRCC = 0.8449820788530465\n",
      "Epoch: 10, Batch: 17, Loss: 4.132537177630833, Val Loss: 3.947238816155328, Val SRCC = 0.8412552948843272\n",
      "Epoch: 11, Batch: 17, Loss: 4.65092194211352, Val Loss: 4.75230344136556, Val SRCC = 0.8478331704138156\n",
      "Epoch: 12, Batch: 17, Loss: 4.2163501886221075, Val Loss: 3.926133029990726, Val SRCC = 0.8509286412512218\n",
      "Epoch: 13, Batch: 17, Loss: 3.8052794343822605, Val Loss: 3.809560775756836, Val SRCC = 0.8480979146301726\n",
      "Epoch: 14, Batch: 17, Loss: 4.100892336813958, Val Loss: 3.7070191635025873, Val SRCC = 0.8509897360703811\n",
      "Epoch: 15, Batch: 17, Loss: 3.773021455649491, Val Loss: 3.948688520325555, Val SRCC = 0.8615998696643857\n",
      "Epoch: 16, Batch: 17, Loss: 3.639540204635033, Val Loss: 4.3923758665720625, Val SRCC = 0.8536982730531116\n",
      "Epoch: 17, Batch: 17, Loss: 3.634131370009957, Val Loss: 4.560367915365431, Val SRCC = 0.8395853698273053\n",
      "Epoch: 18, Batch: 17, Loss: 3.7963139709535536, Val Loss: 4.084989017910427, Val SRCC = 0.8431844639161028\n",
      "Epoch: 19, Batch: 17, Loss: 3.3450605188097273, Val Loss: 5.540341125594245, Val SRCC = 0.8318263277940695\n",
      "Epoch: 20, Batch: 17, Loss: 4.028467180964711, Val Loss: 3.974121411641439, Val SRCC = 0.8543295861844249\n",
      "Epoch: 21, Batch: 17, Loss: 3.810753521028456, Val Loss: 3.8121998574998646, Val SRCC = 0.866915118931248\n",
      "Epoch: 22, Batch: 17, Loss: 2.921837826351543, Val Loss: 3.5337721904118857, Val SRCC = 0.8589320625610947\n",
      "Epoch: 23, Batch: 17, Loss: 2.88939889053722, Val Loss: 5.3254930178324384, Val SRCC = 0.8251873574454218\n",
      "Epoch: 24, Batch: 17, Loss: 2.7466840049722694, Val Loss: 4.155842436684503, Val SRCC = 0.8657339524275007\n",
      "Epoch: 25, Batch: 17, Loss: 2.7129912769401465, Val Loss: 4.1979396608140735, Val SRCC = 0.8551034538937763\n",
      "Epoch: 26, Batch: 17, Loss: 2.922102850217086, Val Loss: 3.5203756160206265, Val SRCC = 0.8716601498859563\n",
      "Epoch: 27, Batch: 17, Loss: 2.581978526744214, Val Loss: 4.538981000582377, Val SRCC = 0.8633919843597261\n",
      "Epoch: 28, Batch: 17, Loss: 2.3000088209634297, Val Loss: 4.371188084284465, Val SRCC = 0.8815167807103289\n",
      "Epoch: 29, Batch: 17, Loss: 2.390340119927794, Val Loss: 3.8316811323165894, Val SRCC = 0.8812113066145323\n",
      "Epoch: 30, Batch: 17, Loss: 2.311412196237962, Val Loss: 3.4706138968467712, Val SRCC = 0.8753054740957965\n",
      "Epoch: 31, Batch: 17, Loss: 2.741116614132137, Val Loss: 3.411592119269901, Val SRCC = 0.8657746823069403\n",
      "Epoch: 32, Batch: 17, Loss: 2.2988592504145027, Val Loss: 3.8237814373440213, Val SRCC = 0.86489898989899\n",
      "Epoch: 33, Batch: 17, Loss: 2.8630050944757985, Val Loss: 3.605701314078437, Val SRCC = 0.859461550993809\n",
      "Epoch: 34, Batch: 17, Loss: 2.6169865982873097, Val Loss: 3.4031850033336215, Val SRCC = 0.8727584441228795\n",
      "Epoch: 35, Batch: 17, Loss: 2.411357562620561, Val Loss: 3.4819059835539923, Val SRCC = 0.8723464789658602\n",
      "Epoch: 36, Batch: 17, Loss: 3.0420082545542453, Val Loss: 3.973031759262085, Val SRCC = 0.8694857546327482\n",
      "Epoch: 37, Batch: 17, Loss: 2.5225715794406094, Val Loss: 3.687373307016161, Val SRCC = 0.8745316063864449\n",
      "Epoch: 38, Batch: 17, Loss: 2.1416498671521196, Val Loss: 3.5890112784173756, Val SRCC = 0.8754423249788215\n",
      "Epoch: 39, Batch: 17, Loss: 1.917368893439953, Val Loss: 4.083561897277832, Val SRCC = 0.8583211143695012\n",
      "Epoch: 40, Batch: 17, Loss: 1.8237286439308753, Val Loss: 3.864183525244395, Val SRCC = 0.86245966750801\n",
      "Epoch: 41, Batch: 17, Loss: 1.690390537073324, Val Loss: 3.9055289559894137, Val SRCC = 0.8804859788757651\n",
      "Epoch: 42, Batch: 17, Loss: 1.991633734860263, Val Loss: 3.4347419804996915, Val SRCC = 0.8717008797653958\n",
      "Epoch: 43, Batch: 17, Loss: 1.781119664291759, Val Loss: 3.5058291686905756, Val SRCC = 0.8608240338054175\n",
      "Epoch: 44, Batch: 17, Loss: 1.7182392255290524, Val Loss: 3.401795678668552, Val SRCC = 0.8773826979472141\n",
      "Epoch: 45, Batch: 17, Loss: 1.6703790249405326, Val Loss: 3.379653924041324, Val SRCC = 0.8806207233626587\n",
      "Epoch: 46, Batch: 17, Loss: 1.5666410818204775, Val Loss: 3.645055227809482, Val SRCC = 0.8650357157234964\n",
      "Epoch: 47, Batch: 17, Loss: 1.7343878903231777, Val Loss: 3.5200535588794284, Val SRCC = 0.8765768525881598\n",
      "Epoch: 48, Batch: 17, Loss: 1.7572438991986787, Val Loss: 3.768619100252787, Val SRCC = 0.8761552770573384\n",
      "Epoch: 49, Batch: 17, Loss: 1.6846127922718341, Val Loss: 3.4594285753038196, Val SRCC = 0.8792766373411534\n",
      "Epoch: 50, Batch: 17, Loss: 1.4684399634927183, Val Loss: 3.522234605418311, Val SRCC = 0.8690330726621048\n",
      "Epoch: 51, Batch: 17, Loss: 1.4632238961838104, Val Loss: 4.878248426649305, Val SRCC = 0.8817756943066092\n",
      "Epoch: 52, Batch: 17, Loss: 1.4741012591582079, Val Loss: 3.6004251506593494, Val SRCC = 0.876751384815901\n",
      "Epoch: 53, Batch: 17, Loss: 1.7816741473072177, Val Loss: 4.1347985532548694, Val SRCC = 0.8676813371852671\n",
      "Epoch: 54, Batch: 17, Loss: 1.4865311076352885, Val Loss: 4.091226246621874, Val SRCC = 0.8636090336838343\n",
      "Epoch: 55, Batch: 17, Loss: 1.3926228893982184, Val Loss: 3.505001836352878, Val SRCC = 0.8766179109795282\n",
      "Epoch: 56, Batch: 17, Loss: 1.4368152035461677, Val Loss: 3.7168814871046276, Val SRCC = 0.8701124144672531\n",
      "Epoch: 57, Batch: 17, Loss: 1.9885902686433479, Val Loss: 3.6969484090805054, Val SRCC = 0.8756516780710328\n",
      "Epoch: 58, Batch: 17, Loss: 1.789312067922655, Val Loss: 4.071683353847927, Val SRCC = 0.8703061883162951\n",
      "Epoch: 59, Batch: 17, Loss: 1.5223837809248284, Val Loss: 3.8822837935553656, Val SRCC = 0.8678512294282652\n",
      "Epoch: 60, Batch: 17, Loss: 1.3258212333197121, Val Loss: 3.837325109375848, Val SRCC = 0.8639916315543601\n",
      "Epoch: 61, Batch: 17, Loss: 1.2362584006655348, Val Loss: 3.4475904769367642, Val SRCC = 0.87638213363008\n",
      "Epoch: 62, Batch: 17, Loss: 1.1941038576456218, Val Loss: 3.8995819886525473, Val SRCC = 0.8527800469398493\n",
      "Epoch: 63, Batch: 17, Loss: 1.205378424335312, Val Loss: 3.7371786634127298, Val SRCC = 0.8699587783323955\n",
      "Epoch: 64, Batch: 17, Loss: 1.2688016852179727, Val Loss: 3.73342321978675, Val SRCC = 0.8711226255614664\n",
      "Epoch: 65, Batch: 17, Loss: 1.1150549267019545, Val Loss: 3.7312691277927823, Val SRCC = 0.868863860087755\n",
      "Epoch: 66, Batch: 17, Loss: 1.2812502767358507, Val Loss: 3.4921379221810236, Val SRCC = 0.862127372559825\n",
      "Epoch: 67, Batch: 17, Loss: 1.2011999520626697, Val Loss: 3.9946296877331204, Val SRCC = 0.8701164723361907\n",
      "Epoch: 68, Batch: 17, Loss: 1.4647274980178246, Val Loss: 3.6626260015699597, Val SRCC = 0.8642052179707438\n",
      "Epoch: 69, Batch: 17, Loss: 1.355779421853495, Val Loss: 3.527218931251102, Val SRCC = 0.8651433691756272\n",
      "Epoch: 70, Batch: 17, Loss: 1.3135049582182705, Val Loss: 3.6087081034978232, Val SRCC = 0.870030954708374\n",
      "Epoch: 71, Batch: 17, Loss: 1.5249251670889803, Val Loss: 3.302813582950168, Val SRCC = 0.8881937213716498\n",
      "Epoch: 72, Batch: 17, Loss: 1.163948233965989, Val Loss: 3.194779415925344, Val SRCC = 0.8777616601214062\n",
      "Epoch: 73, Batch: 17, Loss: 1.187687140572202, Val Loss: 3.510806613498264, Val SRCC = 0.885995274632203\n",
      "Epoch: 74, Batch: 17, Loss: 1.193769002026254, Val Loss: 3.4549145698547363, Val SRCC = 0.8791888807925925\n",
      "Epoch: 75, Batch: 17, Loss: 0.9652989058049171, Val Loss: 3.6598950823148093, Val SRCC = 0.8638471122990863\n",
      "Epoch: 76, Batch: 17, Loss: 0.8737458768454227, Val Loss: 3.524005757437812, Val SRCC = 0.8851290731391717\n",
      "Epoch: 77, Batch: 17, Loss: 0.8766089422362191, Val Loss: 3.4398075540860495, Val SRCC = 0.8794490211031408\n",
      "Epoch: 78, Batch: 17, Loss: 0.8945552087747134, Val Loss: 3.591531674067179, Val SRCC = 0.8731251287636286\n",
      "Epoch: 79, Batch: 17, Loss: 0.9117957137443207, Val Loss: 3.3362799220614963, Val SRCC = 0.8728770805449967\n",
      "Epoch: 80, Batch: 17, Loss: 1.046761000221902, Val Loss: 3.3690449396769204, Val SRCC = 0.8845114182515412\n",
      "Epoch: 81, Batch: 17, Loss: 1.077070183806367, Val Loss: 3.5912353131506176, Val SRCC = 0.8776111104434186\n",
      "Epoch: 82, Batch: 17, Loss: 0.9494759597621121, Val Loss: 3.408718400531345, Val SRCC = 0.8630298314313296\n",
      "Epoch: 83, Batch: 17, Loss: 0.8169062651775696, Val Loss: 3.63944051000807, Val SRCC = 0.8770448240843962\n",
      "Epoch: 84, Batch: 17, Loss: 0.825235998565024, Val Loss: 3.62167391512129, Val SRCC = 0.8687661568495675\n",
      "Epoch: 85, Batch: 17, Loss: 0.7868743624005999, Val Loss: 3.8230379025141397, Val SRCC = 0.8754990583812394\n",
      "Epoch: 86, Batch: 17, Loss: 0.8342707461708194, Val Loss: 3.228636516465081, Val SRCC = 0.8799693359142535\n",
      "Epoch: 87, Batch: 17, Loss: 0.7610581841442611, Val Loss: 3.546940373049842, Val SRCC = 0.8625155267249316\n",
      "Epoch: 88, Batch: 17, Loss: 0.7571118768754896, Val Loss: 3.391999218198988, Val SRCC = 0.8730402601537741\n",
      "Epoch: 89, Batch: 17, Loss: 0.6920589549200875, Val Loss: 3.615802572833167, Val SRCC = 0.859031288095755\n",
      "Epoch: 90, Batch: 17, Loss: 0.6820415271507515, Val Loss: 3.4920409123102822, Val SRCC = 0.8637499592347022\n",
      "Epoch: 91, Batch: 17, Loss: 0.6562356126832438, Val Loss: 3.539001372125414, Val SRCC = 0.8569540213138015\n",
      "Epoch: 92, Batch: 17, Loss: 0.6602649985106437, Val Loss: 3.9821440246370106, Val SRCC = 0.8714483804052774\n",
      "Epoch: 93, Batch: 17, Loss: 0.7938048345047038, Val Loss: 4.309894886281755, Val SRCC = 0.85569403714565\n",
      "Epoch: 94, Batch: 17, Loss: 0.8412894210317633, Val Loss: 3.4680575728416443, Val SRCC = 0.8764635850351779\n",
      "Epoch: 95, Batch: 17, Loss: 0.7307727641456729, Val Loss: 3.457259052329593, Val SRCC = 0.8725124451517969\n",
      "Epoch: 96, Batch: 17, Loss: 0.6576815257360648, Val Loss: 4.020551880200704, Val SRCC = 0.8774374063825293\n",
      "Epoch: 97, Batch: 17, Loss: 0.8735596891287919, Val Loss: 3.7794962326685586, Val SRCC = 0.8704985612934555\n",
      "Epoch: 98, Batch: 17, Loss: 0.9342019659477275, Val Loss: 3.9722889131969876, Val SRCC = 0.8814352538838375\n",
      "Epoch: 99, Batch: 17, Loss: 1.1348466110098494, Val Loss: 4.572146031591627, Val SRCC = 0.8434529118724063\n",
      "Epoch: 100, Batch: 17, Loss: 2.117937200017028, Val Loss: 4.286467108461592, Val SRCC = 0.8699723503269684\n"
     ]
    }
   ],
   "source": [
    "model = finetune(model, train_loader = train_loader, val_loader = val_loader, test_loader = test_loader, file_path = 'data/CoRE-MOF/ft', save_path = 'ft_uptake_high_p.h5')"
   ]
  },
  {
   "cell_type": "code",
   "execution_count": 9,
   "metadata": {},
   "outputs": [],
   "source": [
    "predictions_test, actual_test = runTest(model, test_loader, save_path = 'data/CoRE-MOF/ft/CH4 Uptake at 64 bar/ft_uptake_high_p.h5')"
   ]
  },
  {
   "cell_type": "code",
   "execution_count": 11,
   "metadata": {},
   "outputs": [
    {
     "name": "stdout",
     "output_type": "stream",
     "text": [
      "The SRCC is: 0.9036719327377123\n",
      "The MAE is 1.2413398027420044\n"
     ]
    }
   ],
   "source": [
    "print(f'The SRCC is: {scipy.stats.spearmanr(predictions_test, actual_test)[0]}')\n",
    "print(f'The MAE is {mean_absolute_error(actual_test, predictions_test)}')"
   ]
  },
  {
   "cell_type": "code",
   "execution_count": null,
   "metadata": {},
   "outputs": [],
   "source": []
  },
  {
   "cell_type": "code",
   "execution_count": null,
   "metadata": {},
   "outputs": [],
   "source": []
  }
 ],
 "metadata": {
  "kernelspec": {
   "display_name": "base",
   "language": "python",
   "name": "python3"
  },
  "language_info": {
   "codemirror_mode": {
    "name": "ipython",
    "version": 3
   },
   "file_extension": ".py",
   "mimetype": "text/x-python",
   "name": "python",
   "nbconvert_exporter": "python",
   "pygments_lexer": "ipython3",
   "version": "3.10.12"
  }
 },
 "nbformat": 4,
 "nbformat_minor": 2
}
