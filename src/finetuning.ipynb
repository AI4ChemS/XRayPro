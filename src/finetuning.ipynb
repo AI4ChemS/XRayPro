{
 "cells": [
  {
   "cell_type": "markdown",
   "metadata": {},
   "source": [
    "#### <b>Finetuning the model</b>\n",
    "\n",
    "This notebook demonstrates how to finetune the model from its pretrained weights. For this, the following is required:\n",
    "1. A csv/excel file that maps MOF name to its label of interest.\n",
    "2. A folder of PXRDs for whatever set of MOFs you wish to finetune this model on.\n",
    "3. A folder of precursor data for whatever set of MOFs you wish to finetune this model on."
   ]
  },
  {
   "cell_type": "code",
   "execution_count": 1,
   "metadata": {},
   "outputs": [
    {
     "name": "stderr",
     "output_type": "stream",
     "text": [
      "/home/sartaaj/miniconda3/envs/xraypro/lib/python3.11/site-packages/tqdm/auto.py:21: TqdmWarning: IProgress not found. Please update jupyter and ipywidgets. See https://ipywidgets.readthedocs.io/en/stable/user_install.html\n",
      "  from .autonotebook import tqdm as notebook_tqdm\n"
     ]
    },
    {
     "name": "stdout",
     "output_type": "stream",
     "text": [
      "Python version: 3.11.9 (main, Apr 19 2024, 16:48:06) [GCC 11.2.0]\n"
     ]
    }
   ],
   "source": [
    "import os\n",
    "import pandas as pd\n",
    "import numpy as np\n",
    "\n",
    "# import main module\n",
    "from xraypro.setGen import xraypro_loaders\n",
    "import yaml\n",
    "from xraypro.finetune_xraypro import FinetuneXRayPro, ScratchXRayPro\n",
    "\n",
    "# importing some metrics\n",
    "import matplotlib.pyplot as plt\n",
    "from sklearn.metrics import mean_absolute_error, mean_squared_error\n",
    "from scipy.stats import spearmanr\n",
    "\n",
    "# suppressing warnings (not recommended)\n",
    "import warnings\n",
    "warnings.simplefilter('ignore')\n",
    "\n",
    "import sys\n",
    "print(f'Python version: {sys.version}')"
   ]
  },
  {
   "cell_type": "markdown",
   "metadata": {},
   "source": []
  },
  {
   "cell_type": "code",
   "execution_count": null,
   "metadata": {},
   "outputs": [
    {
     "data": {
      "text/html": [
       "<div>\n",
       "<style scoped>\n",
       "    .dataframe tbody tr th:only-of-type {\n",
       "        vertical-align: middle;\n",
       "    }\n",
       "\n",
       "    .dataframe tbody tr th {\n",
       "        vertical-align: top;\n",
       "    }\n",
       "\n",
       "    .dataframe thead th {\n",
       "        text-align: right;\n",
       "    }\n",
       "</style>\n",
       "<table border=\"1\" class=\"dataframe\">\n",
       "  <thead>\n",
       "    <tr style=\"text-align: right;\">\n",
       "      <th></th>\n",
       "      <th>MOF</th>\n",
       "      <th>pure_uptake_methane_298.00_6500000</th>\n",
       "    </tr>\n",
       "  </thead>\n",
       "  <tbody>\n",
       "    <tr>\n",
       "      <th>0</th>\n",
       "      <td>acs_sym_7_mc_4__L_12__</td>\n",
       "      <td>13.712341</td>\n",
       "    </tr>\n",
       "    <tr>\n",
       "      <th>1</th>\n",
       "      <td>acs_sym_7_mc_4__L_12_FGB_2__</td>\n",
       "      <td>5.950109</td>\n",
       "    </tr>\n",
       "    <tr>\n",
       "      <th>2</th>\n",
       "      <td>acs_sym_7_mc_4__L_12_FGB_4__</td>\n",
       "      <td>3.882429</td>\n",
       "    </tr>\n",
       "    <tr>\n",
       "      <th>3</th>\n",
       "      <td>acs_sym_7_mc_4__L_12_FGCF_2__</td>\n",
       "      <td>5.299856</td>\n",
       "    </tr>\n",
       "    <tr>\n",
       "      <th>4</th>\n",
       "      <td>acs_sym_7_mc_4__L_12_FGCN_2__</td>\n",
       "      <td>9.845145</td>\n",
       "    </tr>\n",
       "  </tbody>\n",
       "</table>\n",
       "</div>"
      ],
      "text/plain": [
       "                             MOF  pure_uptake_methane_298.00_6500000\n",
       "0         acs_sym_7_mc_4__L_12__                           13.712341\n",
       "1   acs_sym_7_mc_4__L_12_FGB_2__                            5.950109\n",
       "2   acs_sym_7_mc_4__L_12_FGB_4__                            3.882429\n",
       "3  acs_sym_7_mc_4__L_12_FGCF_2__                            5.299856\n",
       "4  acs_sym_7_mc_4__L_12_FGCN_2__                            9.845145"
      ]
     },
     "execution_count": 2,
     "metadata": {},
     "output_type": "execute_result"
    }
   ],
   "source": [
    "df = pd.read_csv('data/arabg/full_ARABG_alldata.csv')\n",
    "df = df.rename(columns = {'MOFname' : 'MOF'})\n",
    "\n",
    "label = 'pure_uptake_methane_298.00_6500000'\n",
    "df = df[['MOF', label]]\n",
    "file_name = label.split(' ')[0]\n",
    "df.to_csv(f'data/arabg/csv/{file_name}.csv', index = False)\n",
    "\n",
    "df.head()"
   ]
  },
  {
   "cell_type": "code",
   "execution_count": 3,
   "metadata": {},
   "outputs": [],
   "source": [
    "directory_to_pxrd = 'data/arabg/pxrd'\n",
    "directory_to_precursors = 'data/arabg/precursors'\n",
    "directory_to_csv = f'data/arabg/csv/{label}.csv'"
   ]
  },
  {
   "cell_type": "code",
   "execution_count": 10,
   "metadata": {},
   "outputs": [],
   "source": [
    "yaml_path = os.path.join('xraypro', 'transformer_precursor', 'config_ft_transformer.yaml')\n",
    "yaml_data = os.path.join('xraypro', 'transformer_precursor', 'config_data.yaml')\n",
    "\n",
    "config = yaml.load(open(yaml_path, \"r\"), Loader=yaml.FullLoader)\n",
    "config['dataloader']['randomSeed'] = 0\n",
    "\n",
    "config_data = yaml.load(open(yaml_data, \"r\"), Loader = yaml.FullLoader)\n",
    "config_data['path']['path_to_pxrd'] = f'./data/arabg/pxrd'\n",
    "config_data['path']['path_to_precursor'] = f'./data/arabg/precursors'\n",
    "config_data['model_save_path'] = f'./data/arabg/model_{file_name}_ft.pth'\n",
    "config_data['path']['path_to_csv'] = f'./data/arabg/csv/{file_name}.csv'\n",
    "config_data['test_ratio'] = 0.2\n",
    "config_data['valid_ratio'] = 0.2\n",
    "config_data['path']['label'] = label\n",
    "\n",
    "SEEDS = [0, 1, 2]"
   ]
  },
  {
   "cell_type": "code",
   "execution_count": null,
   "metadata": {},
   "outputs": [
    {
     "name": "stdout",
     "output_type": "stream",
     "text": [
      "Loaded pre-trained model with success.\n",
      "/home/sartaaj/Desktop/XRDFormer_v2/xraypro_git/pretrained/cgcnn/model_t.pth\n",
      "id_to_pxrd.pickle cannot be found... Processing PXRDs...\n",
      "id_to_pxrd has been deposited to ./data/arabg/pxrd/id_to_pxrd.pickle\n",
      "The random seed is:  0\n",
      "Train size: 217, Validation size: 72, Test size: 72\n",
      "Finished loading training, val and test sets!\n"
     ]
    }
   ],
   "source": [
    "ft = FinetuneXRayPro(config, config_data)\n",
    "ft.train()"
   ]
  },
  {
   "cell_type": "code",
   "execution_count": null,
   "metadata": {},
   "outputs": [
    {
     "name": "stdout",
     "output_type": "stream",
     "text": [
      "Epoch: 1, Loss: 50.240465799967446, Val Loss: 20.428462982177734, Val SRCC: 0.5217490842490842\n",
      "Epoch: 2, Loss: 18.17747974395752, Val Loss: 13.998612403869629, Val SRCC: 0.6624084249084248\n",
      "Epoch: 3, Loss: 13.25198237101237, Val Loss: 11.147567749023438, Val SRCC: 0.744642857142857\n",
      "Epoch: 4, Loss: 11.989558855692545, Val Loss: 9.728827476501465, Val SRCC: 0.7598901098901097\n",
      "Epoch: 5, Loss: 11.035138924916586, Val Loss: 9.389172554016113, Val SRCC: 0.8384615384615383\n",
      "Epoch: 6, Loss: 9.0697922706604, Val Loss: 10.082895278930664, Val SRCC: 0.8708333333333331\n",
      "Epoch: 7, Loss: 8.912009080251059, Val Loss: 8.751779556274414, Val SRCC: 0.8858516483516482\n",
      "Epoch: 8, Loss: 7.899657567342122, Val Loss: 7.631743907928467, Val SRCC: 0.8935897435897435\n",
      "Epoch: 9, Loss: 6.614079634348552, Val Loss: 6.021203994750977, Val SRCC: 0.9031135531135529\n",
      "Epoch: 10, Loss: 7.176828543345134, Val Loss: 5.43199348449707, Val SRCC: 0.9071886446886446\n",
      "Epoch: 11, Loss: 5.650029341379802, Val Loss: 4.970450401306152, Val SRCC: 0.9245421245421246\n",
      "Epoch: 12, Loss: 5.413251558939616, Val Loss: 4.522621154785156, Val SRCC: 0.9326465201465199\n",
      "Epoch: 13, Loss: 4.817411740620931, Val Loss: 3.7161686420440674, Val SRCC: 0.9260531135531135\n",
      "Epoch: 14, Loss: 4.097546577453613, Val Loss: 4.586544036865234, Val SRCC: 0.9354395604395603\n",
      "Epoch: 15, Loss: 3.9190431435902915, Val Loss: 3.607158660888672, Val SRCC: 0.9437728937728936\n",
      "Epoch: 16, Loss: 3.0105608304341636, Val Loss: 3.9037742614746094, Val SRCC: 0.9369963369963369\n",
      "Epoch: 17, Loss: 2.874204397201538, Val Loss: 4.1179094314575195, Val SRCC: 0.93507326007326\n",
      "Epoch: 18, Loss: 2.076284885406494, Val Loss: 3.938708782196045, Val SRCC: 0.9485347985347984\n",
      "Epoch: 19, Loss: 2.3321656386057534, Val Loss: 3.5117499828338623, Val SRCC: 0.9487637362637361\n",
      "Epoch: 20, Loss: 1.6202586491902669, Val Loss: 3.6295249462127686, Val SRCC: 0.9402014652014651\n",
      "Epoch: 21, Loss: 1.6551364262898762, Val Loss: 3.878577470779419, Val SRCC: 0.9426739926739925\n",
      "Epoch: 22, Loss: 1.6262233654658, Val Loss: 3.0235109329223633, Val SRCC: 0.9525641025641026\n",
      "Epoch: 23, Loss: 1.5882478952407837, Val Loss: 3.2276358604431152, Val SRCC: 0.9402930402930403\n",
      "Epoch: 24, Loss: 1.6803301175435383, Val Loss: 3.5067553520202637, Val SRCC: 0.94514652014652\n",
      "Epoch: 25, Loss: 1.587990641593933, Val Loss: 3.5311553478240967, Val SRCC: 0.9494963369963368\n",
      "Epoch: 26, Loss: 1.5358939568201702, Val Loss: 3.9813718795776367, Val SRCC: 0.9385531135531134\n",
      "Epoch: 27, Loss: 1.539551019668579, Val Loss: 2.6931405067443848, Val SRCC: 0.9502289377289377\n",
      "Epoch: 28, Loss: 1.3652828534444172, Val Loss: 3.273958683013916, Val SRCC: 0.9381410256410255\n",
      "Epoch: 29, Loss: 1.2529036204020183, Val Loss: 2.8587498664855957, Val SRCC: 0.9461996336996337\n",
      "Epoch: 30, Loss: 1.2580980857213337, Val Loss: 2.8433358669281006, Val SRCC: 0.9469780219780218\n",
      "Epoch: 31, Loss: 1.1423467993736267, Val Loss: 3.0554263591766357, Val SRCC: 0.9519230769230769\n",
      "Epoch: 32, Loss: 1.1184526681900024, Val Loss: 2.806354522705078, Val SRCC: 0.9512362637362637\n",
      "Epoch: 33, Loss: 1.1952869892120361, Val Loss: 3.4566993713378906, Val SRCC: 0.9473443223443221\n",
      "Epoch: 34, Loss: 1.2617339690526326, Val Loss: 3.34194278717041, Val SRCC: 0.9500457875457874\n",
      "Epoch: 35, Loss: 1.652408758799235, Val Loss: 2.7583837509155273, Val SRCC: 0.9480769230769229\n",
      "Epoch: 36, Loss: 0.9252888758977255, Val Loss: 2.536345958709717, Val SRCC: 0.954532967032967\n",
      "Epoch: 37, Loss: 0.9822340408960978, Val Loss: 2.7799606323242188, Val SRCC: 0.9458791208791207\n",
      "Epoch: 38, Loss: 0.992606540520986, Val Loss: 2.8338708877563477, Val SRCC: 0.9478021978021977\n",
      "Epoch: 39, Loss: 0.9919997056325277, Val Loss: 1.827222466468811, Val SRCC: 0.9629578754578755\n",
      "Epoch: 40, Loss: 0.9381245374679565, Val Loss: 2.215294122695923, Val SRCC: 0.959661172161172\n",
      "Epoch: 41, Loss: 0.7101920346419016, Val Loss: 2.3437228202819824, Val SRCC: 0.9524267399267398\n",
      "Epoch: 42, Loss: 0.8309785922368368, Val Loss: 2.4749035835266113, Val SRCC: 0.9607142857142856\n",
      "Epoch: 43, Loss: 0.933328906695048, Val Loss: 2.676614284515381, Val SRCC: 0.9496794871794871\n",
      "Epoch: 44, Loss: 0.7103426456451416, Val Loss: 2.6617679595947266, Val SRCC: 0.9581501831501831\n",
      "Epoch: 45, Loss: 0.8942659099896749, Val Loss: 2.1673946380615234, Val SRCC: 0.955540293040293\n",
      "Epoch: 46, Loss: 0.8556221127510071, Val Loss: 3.516336679458618, Val SRCC: 0.9618131868131866\n",
      "Epoch: 47, Loss: 1.3383758664131165, Val Loss: 2.294368267059326, Val SRCC: 0.9549908424908424\n",
      "Epoch: 48, Loss: 0.9708346525828043, Val Loss: 2.473940849304199, Val SRCC: 0.9519230769230769\n",
      "Epoch: 49, Loss: 0.8563159704208374, Val Loss: 2.9206435680389404, Val SRCC: 0.9554029304029303\n",
      "Epoch: 50, Loss: 0.8999146223068237, Val Loss: 2.1526083946228027, Val SRCC: 0.9482600732600731\n",
      "Epoch: 51, Loss: 0.7355704506238302, Val Loss: 2.2484841346740723, Val SRCC: 0.962591575091575\n",
      "Epoch: 52, Loss: 0.8308886289596558, Val Loss: 2.140054941177368, Val SRCC: 0.9507326007326006\n",
      "Epoch: 53, Loss: 0.6890935301780701, Val Loss: 2.264347553253174, Val SRCC: 0.9554029304029303\n",
      "Epoch: 54, Loss: 0.5456554889678955, Val Loss: 2.4090654850006104, Val SRCC: 0.9627747252747252\n",
      "Epoch: 55, Loss: 0.5594615936279297, Val Loss: 2.104487657546997, Val SRCC: 0.9522893772893771\n",
      "Epoch: 56, Loss: 0.6330087780952454, Val Loss: 2.089393138885498, Val SRCC: 0.9650641025641024\n",
      "Epoch: 57, Loss: 0.5241575042406718, Val Loss: 2.49955153465271, Val SRCC: 0.9496336996336997\n",
      "Epoch: 58, Loss: 0.62654048204422, Val Loss: 1.9793964624404907, Val SRCC: 0.9591575091575091\n",
      "Epoch: 59, Loss: 0.4446123441060384, Val Loss: 1.8311996459960938, Val SRCC: 0.9560439560439559\n",
      "Epoch: 60, Loss: 0.43753159046173096, Val Loss: 2.119739055633545, Val SRCC: 0.9553571428571427\n",
      "Epoch: 61, Loss: 0.4535583257675171, Val Loss: 2.511721134185791, Val SRCC: 0.9592490842490841\n",
      "Epoch: 62, Loss: 0.5141253570715586, Val Loss: 1.8640942573547363, Val SRCC: 0.9668040293040292\n",
      "Epoch: 63, Loss: 0.48729286591211957, Val Loss: 1.9499354362487793, Val SRCC: 0.955448717948718\n",
      "Epoch: 64, Loss: 0.6177513599395752, Val Loss: 2.0666818618774414, Val SRCC: 0.9618131868131866\n",
      "Epoch: 65, Loss: 0.4609544376532237, Val Loss: 2.4007158279418945, Val SRCC: 0.9590201465201464\n",
      "Epoch: 66, Loss: 0.5267899433771769, Val Loss: 1.492094874382019, Val SRCC: 0.9657051282051281\n",
      "Epoch: 67, Loss: 0.44145867228507996, Val Loss: 1.938206672668457, Val SRCC: 0.9671703296703296\n",
      "Epoch: 68, Loss: 0.5485464930534363, Val Loss: 2.0408496856689453, Val SRCC: 0.9605311355311354\n",
      "Epoch: 69, Loss: 0.5515503187974294, Val Loss: 2.517862558364868, Val SRCC: 0.9569597069597069\n",
      "Epoch: 70, Loss: 0.6139493385950724, Val Loss: 2.0881857872009277, Val SRCC: 0.9604395604395602\n",
      "Epoch: 71, Loss: 0.4444129367669423, Val Loss: 1.5924609899520874, Val SRCC: 0.9706043956043956\n",
      "Epoch: 72, Loss: 0.42612043023109436, Val Loss: 2.3385190963745117, Val SRCC: 0.9630036630036629\n",
      "Epoch: 73, Loss: 0.38909051815668744, Val Loss: 2.2393293380737305, Val SRCC: 0.958058608058608\n",
      "Epoch: 74, Loss: 0.4008188446362813, Val Loss: 2.043175220489502, Val SRCC: 0.9632326007326005\n",
      "Epoch: 75, Loss: 0.28633691867192584, Val Loss: 2.211707830429077, Val SRCC: 0.9623168498168497\n",
      "Epoch: 76, Loss: 0.3830730418364207, Val Loss: 1.9891520738601685, Val SRCC: 0.9743131868131867\n",
      "Epoch: 77, Loss: 0.4241395394007365, Val Loss: 1.8694000244140625, Val SRCC: 0.9629120879120878\n",
      "Epoch: 78, Loss: 0.5314149061838785, Val Loss: 2.001157283782959, Val SRCC: 0.9488553113553111\n",
      "Epoch: 79, Loss: 0.5417060852050781, Val Loss: 1.9052470922470093, Val SRCC: 0.9706501831501831\n",
      "Epoch: 80, Loss: 0.48905783891677856, Val Loss: 2.4263851642608643, Val SRCC: 0.9634157509157509\n",
      "Epoch: 81, Loss: 0.4830571115016937, Val Loss: 1.8537955284118652, Val SRCC: 0.9589743589743589\n",
      "Epoch: 82, Loss: 0.41362810134887695, Val Loss: 2.034719467163086, Val SRCC: 0.9717948717948717\n",
      "Epoch: 83, Loss: 0.5832910736401876, Val Loss: 2.0510430335998535, Val SRCC: 0.9692765567765567\n",
      "Epoch: 84, Loss: 0.41969767212867737, Val Loss: 2.8785195350646973, Val SRCC: 0.9657967032967032\n",
      "Epoch: 85, Loss: 0.68319038550059, Val Loss: 1.8006608486175537, Val SRCC: 0.9526556776556776\n",
      "Epoch: 86, Loss: 0.478085199991862, Val Loss: 1.9411944150924683, Val SRCC: 0.96510989010989\n",
      "Epoch: 87, Loss: 0.5390610893567404, Val Loss: 1.959193229675293, Val SRCC: 0.9691849816849816\n",
      "Epoch: 88, Loss: 0.5593394935131073, Val Loss: 2.091752290725708, Val SRCC: 0.9569139194139193\n",
      "Epoch: 89, Loss: 0.5072003652652105, Val Loss: 2.3015706539154053, Val SRCC: 0.9553113553113551\n",
      "Epoch: 90, Loss: 0.6304805477460226, Val Loss: 2.0512895584106445, Val SRCC: 0.9671245421245421\n",
      "Epoch: 91, Loss: 0.40883498390515643, Val Loss: 1.8263871669769287, Val SRCC: 0.963507326007326\n",
      "Epoch: 92, Loss: 0.3950997292995453, Val Loss: 1.6859056949615479, Val SRCC: 0.9646520146520144\n",
      "Epoch: 93, Loss: 0.33320475618044537, Val Loss: 1.9587159156799316, Val SRCC: 0.9657051282051281\n",
      "Epoch: 94, Loss: 0.23527397215366364, Val Loss: 1.605211615562439, Val SRCC: 0.9639194139194137\n",
      "Epoch: 95, Loss: 0.291189839442571, Val Loss: 1.4307098388671875, Val SRCC: 0.971474358974359\n",
      "Epoch: 96, Loss: 0.2651343544324239, Val Loss: 2.2780075073242188, Val SRCC: 0.9615384615384615\n",
      "Epoch: 97, Loss: 0.2523773858944575, Val Loss: 2.2602434158325195, Val SRCC: 0.9551282051282051\n",
      "Epoch: 98, Loss: 0.2302884409825007, Val Loss: 2.2007851600646973, Val SRCC: 0.9633699633699634\n",
      "Epoch: 99, Loss: 0.19715444246927896, Val Loss: 1.7441316843032837, Val SRCC: 0.9759615384615383\n",
      "Epoch: 100, Loss: 0.2339522441228231, Val Loss: 1.8549692630767822, Val SRCC: 0.9606684981684981\n"
     ]
    }
   ],
   "source": [
    "predictions_test, actual_test = ft.predict()"
   ]
  },
  {
   "cell_type": "code",
   "execution_count": 8,
   "metadata": {},
   "outputs": [
    {
     "data": {
      "text/plain": [
       "Text(0.05, 0.75, 'MAE: 1.131\\nMSE: 2.411\\nRMSE: 1.553\\nSRCC: 0.959')"
      ]
     },
     "execution_count": 8,
     "metadata": {},
     "output_type": "execute_result"
    },
    {
     "data": {
      "image/png": "[encoded data removed]",
      "text/plain": [
       "<Figure size 640x480 with 1 Axes>"
      ]
     },
     "metadata": {},
     "output_type": "display_data"
    }
   ],
   "source": [
    "mae = mean_absolute_error(actual_test, predictions_test)\n",
    "mse = mean_squared_error(actual_test, predictions_test)\n",
    "rmse = np.sqrt(mse)\n",
    "srcc, _ = spearmanr(actual_test, predictions_test)\n",
    "\n",
    "plt.scatter(actual_test, predictions_test, s = 10, marker = 's')\n",
    "plt.plot([min(actual_test), max(actual_test)], [min(actual_test), max(actual_test)], 'k', linestyle = '--')\n",
    "\n",
    "plt.xlim([min(actual_test), max(actual_test)])\n",
    "plt.ylim([min(actual_test), max(actual_test)])\n",
    "\n",
    "plt.xlabel('Actual label (a.u.)')\n",
    "plt.ylabel('Predicted label (a.u)')\n",
    "\n",
    "metrics = f\"MAE: {mae:.3f}\\nMSE: {mse:.3f}\\nRMSE: {rmse:.3f}\\nSRCC: {srcc:.3f}\"\n",
    "plt.text(0.05, 0.75, metrics, fontsize = 12, transform = plt.gca().transAxes, bbox = dict(facecolor = 'white', alpha = 0.5))\n"
   ]
  },
  {
   "cell_type": "code",
   "execution_count": null,
   "metadata": {},
   "outputs": [],
   "source": []
  },
  {
   "cell_type": "code",
   "execution_count": null,
   "metadata": {},
   "outputs": [],
   "source": []
  }
 ],
 "metadata": {
  "kernelspec": {
   "display_name": "xraypro",
   "language": "python",
   "name": "python3"
  },
  "language_info": {
   "codemirror_mode": {
    "name": "ipython",
    "version": 3
   },
   "file_extension": ".py",
   "mimetype": "text/x-python",
   "name": "python",
   "nbconvert_exporter": "python",
   "pygments_lexer": "ipython3",
   "version": "3.11.9"
  }
 },
 "nbformat": 4,
 "nbformat_minor": 2
}
